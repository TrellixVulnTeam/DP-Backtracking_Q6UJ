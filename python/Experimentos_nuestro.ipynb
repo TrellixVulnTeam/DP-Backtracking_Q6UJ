{
 "cells": [
  {
   "cell_type": "markdown",
   "id": "4f4c077f",
   "metadata": {},
   "source": [
    "# GENERAMOS LAS INSTANCIAS:"
   ]
  },
  {
   "cell_type": "code",
   "execution_count": 1,
   "id": "5d34653d",
   "metadata": {
    "scrolled": true
   },
   "outputs": [
    {
     "ename": "SyntaxError",
     "evalue": "invalid syntax (574242852.py, line 1)",
     "output_type": "error",
     "traceback": [
      "\u001b[0;36m  File \u001b[0;32m\"/tmp/ipykernel_59260/574242852.py\"\u001b[0;36m, line \u001b[0;32m1\u001b[0m\n\u001b[0;31m    H1 fuerza bruta mas lento que todos xq revisa mas instancias y sigue las ramas sin podarlas\u001b[0m\n\u001b[0m       ^\u001b[0m\n\u001b[0;31mSyntaxError\u001b[0m\u001b[0;31m:\u001b[0m invalid syntax\n"
     ]
    }
   ],
   "source": [
    "H1 velocidad FB<BT<DP\n",
    "H2 BT va a alejarse mas de su complejidad calculada teoricamente\n",
    "H3 armar hipotesis en torno a instancias particulares, si lo que le damos es asi, esperamos asa\n",
    "\n",
    "\n",
    "m: 1\n",
    "s:[24,19,15,8]\n",
    "c:[5,4,7,8]\n",
    "B:[2,1,3,1]"
   ]
  },
  {
   "cell_type": "markdown",
   "id": "25a327a6",
   "metadata": {},
   "source": [
    "##### Importamos las librerias a usar"
   ]
  },
  {
   "cell_type": "code",
   "execution_count": 13,
   "id": "5774bbb2",
   "metadata": {},
   "outputs": [],
   "source": [
    "import math, subprocess, time, random\n",
    "import pandas as pd\n",
    "import numpy as np\n",
    "from IPython.display import display, clear_output\n",
    "import seaborn as sns\n",
    "import matplotlib.pyplot as plt\n",
    "from tqdm.notebook import tqdm"
   ]
  },
  {
   "cell_type": "code",
   "execution_count": 14,
   "id": "a70fb0ce",
   "metadata": {},
   "outputs": [],
   "source": [
    "def save_instance(dataset, instance_name, b,c, m):\n",
    "    with open(F\"instances/{dataset}/{instance_name}.txt\", \"w\") as f:\n",
    "        print(len(c), m, file=f)\n",
    "        for j in range(0,len(c)): \n",
    "            print(b[j], file=f, end=\" \")\n",
    "            print(c[j], file=f, end=\" \\n\")\n"
   ]
  },
  {
   "cell_type": "code",
   "execution_count": 77,
   "id": "98dc7083",
   "metadata": {},
   "outputs": [],
   "source": [
    "def exp1():\n",
    "    filas_indice = []\n",
    "    for n in tqdm(range(2, 33,5), \"Generating instances\"):\n",
    "        nombre = \"prueba\"\n",
    "        #damos valores a n,w,b,c\n",
    "        m= 30*n\n",
    "        b = np.random.randint(100, size=n)\n",
    "        c = np.random.randint(100, size=n)\n",
    "        save_instance(nombre, nombre+F\"-{n}\",b,c, m)\n",
    "        filas_indice.append([nombre, nombre + f\"-{n}\", n, m, \"instances/\"+nombre+\"/\"+nombre+f\"-{n}.txt\"])\n",
    "    pd.DataFrame(filas_indice, columns=[\"dataset\", \"instance\", \"n\", \"m\", \"file\"]).to_csv(\"instances/\"+nombre+\"/indice.csv\", index=False, header=True)"
   ]
  },
  {
   "cell_type": "code",
   "execution_count": 58,
   "id": "f2e235ec",
   "metadata": {},
   "outputs": [],
   "source": [
    "def exp2():\n",
    "    filas_indice = []\n",
    "    for n in tqdm(range(1, 52,5), \"Generating instances\"):\n",
    "        nombre = \"escalera\"\n",
    "        #damos valores a n,w,b,c\n",
    "        m = int(((n**2/2)- (((n**2)/2)/5)))\n",
    "        b = list(range(0,n))\n",
    "        c = list(range(n,0,-1))\n",
    "        save_instance(nombre, nombre+F\"-{n}\",b,c, m)\n",
    "        filas_indice.append([nombre, nombre + f\"-{n}\", n, m, \"instances/\"+nombre+\"/\"+nombre+f\"-{n}.txt\"])\n",
    "    pd.DataFrame(filas_indice, columns=[\"dataset\", \"instance\", \"n\", \"m\", \"file\"]).to_csv(\"instances/\"+nombre+\"/indice.csv\", index=False, header=True)"
   ]
  },
  {
   "cell_type": "code",
   "execution_count": 17,
   "id": "e7bea170",
   "metadata": {},
   "outputs": [],
   "source": [
    "def exp3():\n",
    "    filas_indice = []\n",
    "    for n in tqdm(range(50, 501,50), \"Generating instances\"):\n",
    "        nombre = \"escalera2\"\n",
    "        #damos valores a n,w,b,c\n",
    "        m = int(((n**2/2)- (((n**2)/2)/5)))\n",
    "        c = list(range(0,n))\n",
    "        b = list(range(n,0,-1))\n",
    "        save_instance(nombre, nombre+F\"-{n}\",b,c, m)\n",
    "        filas_indice.append([nombre, nombre + f\"-{n}\", n, m, \"instances/\"+nombre+\"/\"+nombre+f\"-{n}.txt\"])\n",
    "    pd.DataFrame(filas_indice, columns=[\"dataset\", \"instance\", \"n\", \"m\", \"file\"]).to_csv(\"instances/\"+nombre+\"/indice.csv\", index=False, header=True)"
   ]
  },
  {
   "cell_type": "markdown",
   "id": "c535bc95",
   "metadata": {},
   "source": [
    "#### En esta seccion nos centraremos en correr los experimentos con las instancias generadass mas arriba"
   ]
  },
  {
   "cell_type": "markdown",
   "id": "52ac6e58",
   "metadata": {},
   "source": [
    "#### Funciones a usar:"
   ]
  },
  {
   "cell_type": "code",
   "execution_count": 78,
   "id": "7727ca76",
   "metadata": {},
   "outputs": [],
   "source": [
    "def run_program(method, test_file):\n",
    "    #corre el programa con el metodo indicado en el test file indicado y devuelve el tiempo tomado en ejecutar\n",
    "    #leemos la instancia\n",
    "#     instancia = open(test_file, \"r\").read()\n",
    "    \n",
    "    start = time.time() #comenzamos a medir el timepo\n",
    "#     print(test_file)\n",
    "    proc = subprocess.Popen([\"../src/tp1\",test_file,method], stderr=subprocess.PIPE,stdout = subprocess.PIPE, stdin=subprocess.PIPE, universal_newlines = True) #lanzamos proceso\n",
    "    \n",
    "     #Poner la instancia en la entrada estandar.\n",
    "#     proc.stdin.write(instancia)\n",
    "    \n",
    "    exit_code = proc.wait()#esperamos a que el proceso termien\n",
    "    \n",
    "    end = time.time() #terminamos de medir el tiempo\n",
    "    \n",
    "    #mandamos error de ser necesario \n",
    "    if exit_code != 0: raise RuntimeError(F\"Hubo un error en la experimentacion para el algoritmo: {method} con la instancia {test_file}.\")\n",
    "    \n",
    "    return end-start #devolvemos el timepo\n",
    "    "
   ]
  },
  {
   "cell_type": "code",
   "execution_count": 49,
   "id": "b0c81d51",
   "metadata": {},
   "outputs": [],
   "source": [
    "def run_experiments(name):\n",
    "    #recibe un nombre para darle al archivo de salida y lo que hace es correr todos los experimentos que se encuentren en la lista llamada experiments que debe ser generada con anterioridad\n",
    "    columns = [\"dataset\",\"exp_name\",\"n\", \"m\", \"method\", \"time\"];\n",
    "    rows = [];\n",
    "    j = 1\n",
    "    T =3 # Numero de veces que se ejecuta cada experimento (para mayor fidelidad del tiempo).\n",
    "    explen = str(len(experiments))\n",
    "    \n",
    "    for exp in tqdm(experiments, \"Completed experiments\"):\n",
    "        print(exp)\n",
    "        times = []\n",
    "        for i in range(0, T):\n",
    "            times.append(run_program(exp[3], exp[4]))\n",
    "        rows.append([exp[0], name, exp[1], exp[2],exp[3], np.mean(times)])\n",
    "    result = pd.DataFrame(rows, columns=columns)\n",
    "    result.to_csv(\"results/result.csv\", index=False, header=True);"
   ]
  },
  {
   "cell_type": "markdown",
   "id": "0f2ee779",
   "metadata": {},
   "source": [
    "## Corrida de experimentos"
   ]
  },
  {
   "cell_type": "markdown",
   "id": "cf273ec3",
   "metadata": {},
   "source": [
    "#### Leemos los indices de las instancias generadas anteriormente "
   ]
  },
  {
   "cell_type": "code",
   "execution_count": 20,
   "id": "0098348f",
   "metadata": {},
   "outputs": [],
   "source": [
    "# df_densidad_alta = pd.read_csv(\"instances/densidad-alta/indice.csv\");\n",
    "# df_densidad_baja = pd.read_csv(\"instances/densidad-baja/indice.csv\");\n",
    "# df_mejor_caso_bt = pd.read_csv(\"instances/mejor-caso-bt/indice.csv\");\n",
    "# df_peor_caso_bt = pd.read_csv(\"instances/peor-caso-bt/indice.csv\");\n",
    "# df_dinamica = pd.read_csv(\"instances/dinamica/indice.csv\");"
   ]
  },
  {
   "cell_type": "code",
   "execution_count": 21,
   "id": "a15a79a5",
   "metadata": {},
   "outputs": [],
   "source": [
    "df_aleatorio = pd.read_csv(\"instances/prueba/indice.csv\");"
   ]
  },
  {
   "cell_type": "markdown",
   "id": "267f3591",
   "metadata": {},
   "source": [
    "#### Experimento 1:"
   ]
  },
  {
   "cell_type": "markdown",
   "id": "8d60e4e1",
   "metadata": {},
   "source": [
    "En este experimento probaremos con casos aleatorios elegidos uniformemente usando la funcion randint"
   ]
  },
  {
   "cell_type": "code",
   "execution_count": 76,
   "id": "7f4b764e",
   "metadata": {
    "scrolled": false
   },
   "outputs": [
    {
     "data": {
      "application/vnd.jupyter.widget-view+json": {
       "model_id": "a15df0b89f2f427e9e6d36909e248645",
       "version_major": 2,
       "version_minor": 0
      },
      "text/plain": [
       "Generating instances:   0%|          | 0/7 [00:00<?, ?it/s]"
      ]
     },
     "metadata": {},
     "output_type": "display_data"
    },
    {
     "data": {
      "application/vnd.jupyter.widget-view+json": {
       "model_id": "677dbf959b644ce299ec4f3fcf5e42af",
       "version_major": 2,
       "version_minor": 0
      },
      "text/plain": [
       "Completed experiments:   0%|          | 0/28 [00:00<?, ?it/s]"
      ]
     },
     "metadata": {},
     "output_type": "display_data"
    },
    {
     "name": "stdout",
     "output_type": "stream",
     "text": [
      "['prueba', 1, 30, 'bt', 'instances/prueba/prueba-1.txt']\n",
      "['prueba', 1, 30, 'bto', 'instances/prueba/prueba-1.txt']\n",
      "['prueba', 1, 30, 'btf', 'instances/prueba/prueba-1.txt']\n",
      "['prueba', 1, 30, 'btof', 'instances/prueba/prueba-1.txt']\n",
      "['prueba', 6, 180, 'bt', 'instances/prueba/prueba-6.txt']\n",
      "['prueba', 6, 180, 'bto', 'instances/prueba/prueba-6.txt']\n",
      "['prueba', 6, 180, 'btf', 'instances/prueba/prueba-6.txt']\n",
      "['prueba', 6, 180, 'btof', 'instances/prueba/prueba-6.txt']\n",
      "['prueba', 11, 330, 'bt', 'instances/prueba/prueba-11.txt']\n",
      "['prueba', 11, 330, 'bto', 'instances/prueba/prueba-11.txt']\n",
      "['prueba', 11, 330, 'btf', 'instances/prueba/prueba-11.txt']\n",
      "['prueba', 11, 330, 'btof', 'instances/prueba/prueba-11.txt']\n",
      "['prueba', 16, 480, 'bt', 'instances/prueba/prueba-16.txt']\n",
      "['prueba', 16, 480, 'bto', 'instances/prueba/prueba-16.txt']\n",
      "['prueba', 16, 480, 'btf', 'instances/prueba/prueba-16.txt']\n",
      "['prueba', 16, 480, 'btof', 'instances/prueba/prueba-16.txt']\n",
      "['prueba', 21, 630, 'bt', 'instances/prueba/prueba-21.txt']\n",
      "['prueba', 21, 630, 'bto', 'instances/prueba/prueba-21.txt']\n",
      "['prueba', 21, 630, 'btf', 'instances/prueba/prueba-21.txt']\n",
      "['prueba', 21, 630, 'btof', 'instances/prueba/prueba-21.txt']\n",
      "['prueba', 26, 780, 'bt', 'instances/prueba/prueba-26.txt']\n",
      "['prueba', 26, 780, 'bto', 'instances/prueba/prueba-26.txt']\n",
      "['prueba', 26, 780, 'btf', 'instances/prueba/prueba-26.txt']\n",
      "['prueba', 26, 780, 'btof', 'instances/prueba/prueba-26.txt']\n",
      "['prueba', 31, 930, 'bt', 'instances/prueba/prueba-31.txt']\n",
      "['prueba', 31, 930, 'bto', 'instances/prueba/prueba-31.txt']\n",
      "['prueba', 31, 930, 'btf', 'instances/prueba/prueba-31.txt']\n",
      "['prueba', 31, 930, 'btof', 'instances/prueba/prueba-31.txt']\n"
     ]
    },
    {
     "data": {
      "text/html": [
       "<div>\n",
       "<style scoped>\n",
       "    .dataframe tbody tr th:only-of-type {\n",
       "        vertical-align: middle;\n",
       "    }\n",
       "\n",
       "    .dataframe tbody tr th {\n",
       "        vertical-align: top;\n",
       "    }\n",
       "\n",
       "    .dataframe thead th {\n",
       "        text-align: right;\n",
       "    }\n",
       "</style>\n",
       "<table border=\"1\" class=\"dataframe\">\n",
       "  <thead>\n",
       "    <tr style=\"text-align: right;\">\n",
       "      <th></th>\n",
       "      <th>dataset</th>\n",
       "      <th>exp_name</th>\n",
       "      <th>n</th>\n",
       "      <th>m</th>\n",
       "      <th>method</th>\n",
       "      <th>time</th>\n",
       "    </tr>\n",
       "  </thead>\n",
       "  <tbody>\n",
       "    <tr>\n",
       "      <th>0</th>\n",
       "      <td>prueba</td>\n",
       "      <td>prueba-exp</td>\n",
       "      <td>1</td>\n",
       "      <td>30</td>\n",
       "      <td>bt</td>\n",
       "      <td>0.023568</td>\n",
       "    </tr>\n",
       "    <tr>\n",
       "      <th>1</th>\n",
       "      <td>prueba</td>\n",
       "      <td>prueba-exp</td>\n",
       "      <td>1</td>\n",
       "      <td>30</td>\n",
       "      <td>bto</td>\n",
       "      <td>0.021562</td>\n",
       "    </tr>\n",
       "    <tr>\n",
       "      <th>2</th>\n",
       "      <td>prueba</td>\n",
       "      <td>prueba-exp</td>\n",
       "      <td>1</td>\n",
       "      <td>30</td>\n",
       "      <td>btf</td>\n",
       "      <td>0.018284</td>\n",
       "    </tr>\n",
       "    <tr>\n",
       "      <th>3</th>\n",
       "      <td>prueba</td>\n",
       "      <td>prueba-exp</td>\n",
       "      <td>1</td>\n",
       "      <td>30</td>\n",
       "      <td>btof</td>\n",
       "      <td>0.020111</td>\n",
       "    </tr>\n",
       "    <tr>\n",
       "      <th>4</th>\n",
       "      <td>prueba</td>\n",
       "      <td>prueba-exp</td>\n",
       "      <td>6</td>\n",
       "      <td>180</td>\n",
       "      <td>bt</td>\n",
       "      <td>0.018239</td>\n",
       "    </tr>\n",
       "    <tr>\n",
       "      <th>5</th>\n",
       "      <td>prueba</td>\n",
       "      <td>prueba-exp</td>\n",
       "      <td>6</td>\n",
       "      <td>180</td>\n",
       "      <td>bto</td>\n",
       "      <td>0.016660</td>\n",
       "    </tr>\n",
       "    <tr>\n",
       "      <th>6</th>\n",
       "      <td>prueba</td>\n",
       "      <td>prueba-exp</td>\n",
       "      <td>6</td>\n",
       "      <td>180</td>\n",
       "      <td>btf</td>\n",
       "      <td>0.018639</td>\n",
       "    </tr>\n",
       "    <tr>\n",
       "      <th>7</th>\n",
       "      <td>prueba</td>\n",
       "      <td>prueba-exp</td>\n",
       "      <td>6</td>\n",
       "      <td>180</td>\n",
       "      <td>btof</td>\n",
       "      <td>0.022993</td>\n",
       "    </tr>\n",
       "    <tr>\n",
       "      <th>8</th>\n",
       "      <td>prueba</td>\n",
       "      <td>prueba-exp</td>\n",
       "      <td>11</td>\n",
       "      <td>330</td>\n",
       "      <td>bt</td>\n",
       "      <td>0.019531</td>\n",
       "    </tr>\n",
       "    <tr>\n",
       "      <th>9</th>\n",
       "      <td>prueba</td>\n",
       "      <td>prueba-exp</td>\n",
       "      <td>11</td>\n",
       "      <td>330</td>\n",
       "      <td>bto</td>\n",
       "      <td>0.019424</td>\n",
       "    </tr>\n",
       "  </tbody>\n",
       "</table>\n",
       "</div>"
      ],
      "text/plain": [
       "  dataset    exp_name   n    m method      time\n",
       "0  prueba  prueba-exp   1   30     bt  0.023568\n",
       "1  prueba  prueba-exp   1   30    bto  0.021562\n",
       "2  prueba  prueba-exp   1   30    btf  0.018284\n",
       "3  prueba  prueba-exp   1   30   btof  0.020111\n",
       "4  prueba  prueba-exp   6  180     bt  0.018239\n",
       "5  prueba  prueba-exp   6  180    bto  0.016660\n",
       "6  prueba  prueba-exp   6  180    btf  0.018639\n",
       "7  prueba  prueba-exp   6  180   btof  0.022993\n",
       "8  prueba  prueba-exp  11  330     bt  0.019531\n",
       "9  prueba  prueba-exp  11  330    bto  0.019424"
      ]
     },
     "metadata": {},
     "output_type": "display_data"
    },
    {
     "data": {
      "image/png": "[encoded data removed]",
      "text/plain": [
       "<Figure size 648x504 with 1 Axes>"
      ]
     },
     "metadata": {
      "needs_background": "light"
     },
     "output_type": "display_data"
    },
    {
     "data": {
      "image/png": "[encoded data removed]",
      "text/plain": [
       "<Figure size 648x504 with 1 Axes>"
      ]
     },
     "metadata": {
      "needs_background": "light"
     },
     "output_type": "display_data"
    },
    {
     "data": {
      "image/png": "[encoded data removed]",
      "text/plain": [
       "<Figure size 648x504 with 1 Axes>"
      ]
     },
     "metadata": {
      "needs_background": "light"
     },
     "output_type": "display_data"
    }
   ],
   "source": [
    "exp1()\n",
    "instance = \"prueba\"\n",
    "df_data = pd.read_csv(\"instances/\"+instance+\"/indice.csv\");\n",
    "experiments = [] #vaciamos lista para llenarla con los datos que queremos\n",
    "name = \"prueba-exp\"\n",
    "\n",
    "#llenamos la lista de experimentos\n",
    "for k in range(0, len(df_data)):\n",
    "    row_k = df_data.iloc[k]\n",
    "#     experiments.append([row_k[\"dataset\"], row_k[\"n\"], row_k[\"m\"], \"bf\", row_k[\"file\"]])\n",
    "    experiments.append([row_k[\"dataset\"], row_k[\"n\"], row_k[\"m\"], \"bt\", row_k[\"file\"]])\n",
    "    experiments.append([row_k[\"dataset\"], row_k[\"n\"], row_k[\"m\"], \"bto\", row_k[\"file\"]])\n",
    "    experiments.append([row_k[\"dataset\"], row_k[\"n\"], row_k[\"m\"], \"btf\", row_k[\"file\"]])\n",
    "    experiments.append([row_k[\"dataset\"], row_k[\"n\"], row_k[\"m\"], \"btof\", row_k[\"file\"]])\n",
    "#     experiments.append([row_k[\"dataset\"], row_k[\"n\"], row_k[\"m\"], \"dp\", row_k[\"file\"]])\n",
    "\n",
    "#corremos los experimentos\n",
    "run_experiments(name)\n",
    "\n",
    "#veamos el resultado\n",
    "df_resultados = pd.read_csv(\"results/result.csv\")\n",
    "df_resultados = df_resultados[(df_resultados[\"dataset\"]==instance)]\n",
    "display(df_resultados[0:10])\n",
    "\n",
    "li = True\n",
    "plot(\"exp2\", l = li)\n",
    "plot(\"exp2\",bf = False, dp = False, l = li)\n",
    "plot(\"exp2\",btf = False, bto = False, l = li)\n",
    "\n"
   ]
  },
  {
   "cell_type": "code",
   "execution_count": 72,
   "id": "e0e24cd9",
   "metadata": {},
   "outputs": [
    {
     "data": {
      "image/png": "[encoded data removed]",
      "text/plain": [
       "<Figure size 648x504 with 1 Axes>"
      ]
     },
     "metadata": {
      "needs_background": "light"
     },
     "output_type": "display_data"
    }
   ],
   "source": [
    "plot(\"exp2\",bf=False, l = li)\n"
   ]
  },
  {
   "cell_type": "code",
   "execution_count": 11,
   "id": "f4de2ad7",
   "metadata": {},
   "outputs": [
    {
     "ename": "NameError",
     "evalue": "name 'plot' is not defined",
     "output_type": "error",
     "traceback": [
      "\u001b[0;31m---------------------------------------------------------------------------\u001b[0m",
      "\u001b[0;31mNameError\u001b[0m                                 Traceback (most recent call last)",
      "\u001b[0;32m/tmp/ipykernel_113675/3255496120.py\u001b[0m in \u001b[0;36m<module>\u001b[0;34m\u001b[0m\n\u001b[1;32m      1\u001b[0m \u001b[0mli\u001b[0m \u001b[0;34m=\u001b[0m \u001b[0;32mTrue\u001b[0m\u001b[0;34m\u001b[0m\u001b[0;34m\u001b[0m\u001b[0m\n\u001b[0;32m----> 2\u001b[0;31m \u001b[0mplot\u001b[0m\u001b[0;34m(\u001b[0m\u001b[0;34m\"exp2\"\u001b[0m\u001b[0;34m,\u001b[0m \u001b[0ml\u001b[0m \u001b[0;34m=\u001b[0m \u001b[0mli\u001b[0m\u001b[0;34m)\u001b[0m\u001b[0;34m\u001b[0m\u001b[0;34m\u001b[0m\u001b[0m\n\u001b[0m\u001b[1;32m      3\u001b[0m \u001b[0mplot\u001b[0m\u001b[0;34m(\u001b[0m\u001b[0;34m\"exp2\"\u001b[0m\u001b[0;34m,\u001b[0m\u001b[0mbf\u001b[0m \u001b[0;34m=\u001b[0m \u001b[0;32mFalse\u001b[0m\u001b[0;34m,\u001b[0m \u001b[0mdp\u001b[0m \u001b[0;34m=\u001b[0m \u001b[0;32mFalse\u001b[0m\u001b[0;34m,\u001b[0m \u001b[0ml\u001b[0m \u001b[0;34m=\u001b[0m \u001b[0mli\u001b[0m\u001b[0;34m)\u001b[0m\u001b[0;34m\u001b[0m\u001b[0;34m\u001b[0m\u001b[0m\n\u001b[1;32m      4\u001b[0m \u001b[0mplot\u001b[0m\u001b[0;34m(\u001b[0m\u001b[0;34m\"exp2\"\u001b[0m\u001b[0;34m,\u001b[0m\u001b[0mbtf\u001b[0m \u001b[0;34m=\u001b[0m \u001b[0;32mFalse\u001b[0m\u001b[0;34m,\u001b[0m \u001b[0mbto\u001b[0m \u001b[0;34m=\u001b[0m \u001b[0;32mFalse\u001b[0m\u001b[0;34m,\u001b[0m \u001b[0ml\u001b[0m \u001b[0;34m=\u001b[0m \u001b[0mli\u001b[0m\u001b[0;34m)\u001b[0m\u001b[0;34m\u001b[0m\u001b[0;34m\u001b[0m\u001b[0m\n",
      "\u001b[0;31mNameError\u001b[0m: name 'plot' is not defined"
     ]
    }
   ],
   "source": [
    "li = True\n",
    "plot(\"exp2\", l = li)\n",
    "plot(\"exp2\",bf = False, dp = False, l = li)\n",
    "plot(\"exp2\",btf = False, bto = False, l = li)"
   ]
  },
  {
   "cell_type": "code",
   "execution_count": 63,
   "id": "c9196fa3",
   "metadata": {},
   "outputs": [
    {
     "data": {
      "application/vnd.jupyter.widget-view+json": {
       "model_id": "3970f147405144a2893aa2426f3bb7e0",
       "version_major": 2,
       "version_minor": 0
      },
      "text/plain": [
       "Generating instances:   0%|          | 0/7 [00:00<?, ?it/s]"
      ]
     },
     "metadata": {},
     "output_type": "display_data"
    },
    {
     "data": {
      "application/vnd.jupyter.widget-view+json": {
       "model_id": "d7c0521e10bc424d9e785b456e640622",
       "version_major": 2,
       "version_minor": 0
      },
      "text/plain": [
       "Completed experiments:   0%|          | 0/30 [00:00<?, ?it/s]"
      ]
     },
     "metadata": {},
     "output_type": "display_data"
    },
    {
     "name": "stdout",
     "output_type": "stream",
     "text": [
      "['escalera', 1, 0, 'bf', 'instances/escalera/escalera-1.txt']\n",
      "bf: 0\n",
      "bf: 0\n",
      "bf: 0\n",
      "['escalera', 1, 0, 'bt', 'instances/escalera/escalera-1.txt']\n",
      "bt: 0  (mode: Optimization & Factibility)\n",
      "bt: 0  (mode: Optimization & Factibility)\n",
      "bt: 0  (mode: Optimization & Factibility)\n",
      "['escalera', 1, 0, 'bto', 'instances/escalera/escalera-1.txt']\n",
      "bto: 0  (mode: Optimization)\n",
      "bto: 0  (mode: Optimization)\n",
      "bto: 0  (mode: Optimization)\n",
      "['escalera', 1, 0, 'btf', 'instances/escalera/escalera-1.txt']\n",
      "btf: 0  (mode: Factibility)\n",
      "btf: 0  (mode: Factibility)\n",
      "btf: 0  (mode: Factibility)\n",
      "['escalera', 1, 0, 'dp', 'instances/escalera/escalera-1.txt']\n",
      "dp: 0\n",
      "dp: 0\n",
      "dp: 0\n",
      "['escalera', 6, 14, 'bf', 'instances/escalera/escalera-6.txt']\n",
      "bf: 9\n",
      "bf: 9\n",
      "bf: 9\n",
      "['escalera', 6, 14, 'bt', 'instances/escalera/escalera-6.txt']\n",
      "bt: 9  (mode: Optimization & Factibility)\n",
      "bt: 9  (mode: Optimization & Factibility)\n",
      "bt: 9  (mode: Optimization & Factibility)\n",
      "['escalera', 6, 14, 'bto', 'instances/escalera/escalera-6.txt']\n",
      "bto: 9  (mode: Optimization)\n",
      "bto: 9  (mode: Optimization)\n",
      "bto: 9  (mode: Optimization)\n",
      "['escalera', 6, 14, 'btf', 'instances/escalera/escalera-6.txt']\n",
      "btf: 9  (mode: Factibility)\n",
      "btf: 9  (mode: Factibility)\n",
      "btf: 9  (mode: Factibility)\n",
      "['escalera', 6, 14, 'dp', 'instances/escalera/escalera-6.txt']\n",
      "dp: 9\n",
      "dp: 9\n",
      "dp: 9\n",
      "['escalera', 11, 48, 'bf', 'instances/escalera/escalera-11.txt']\n",
      "bf: 30\n",
      "bf: 30\n",
      "bf: 30\n",
      "['escalera', 11, 48, 'bt', 'instances/escalera/escalera-11.txt']\n",
      "bt: 30  (mode: Optimization & Factibility)\n",
      "bt: 30  (mode: Optimization & Factibility)\n",
      "bt: 30  (mode: Optimization & Factibility)\n",
      "['escalera', 11, 48, 'bto', 'instances/escalera/escalera-11.txt']\n",
      "bto: 30  (mode: Optimization)\n",
      "bto: 30  (mode: Optimization)\n",
      "bto: 30  (mode: Optimization)\n",
      "['escalera', 11, 48, 'btf', 'instances/escalera/escalera-11.txt']\n",
      "btf: 30  (mode: Factibility)\n",
      "btf: 30  (mode: Factibility)\n",
      "btf: 30  (mode: Factibility)\n",
      "['escalera', 11, 48, 'dp', 'instances/escalera/escalera-11.txt']\n",
      "dp: 30\n",
      "dp: 30\n",
      "dp: 30\n",
      "['escalera', 16, 102, 'bf', 'instances/escalera/escalera-16.txt']\n",
      "bf: 64\n",
      "bf: 64\n",
      "bf: 64\n",
      "['escalera', 16, 102, 'bt', 'instances/escalera/escalera-16.txt']\n",
      "bt: 64  (mode: Optimization & Factibility)\n",
      "bt: 64  (mode: Optimization & Factibility)\n",
      "bt: 64  (mode: Optimization & Factibility)\n",
      "['escalera', 16, 102, 'bto', 'instances/escalera/escalera-16.txt']\n",
      "bto: 64  (mode: Optimization)\n",
      "bto: 64  (mode: Optimization)\n",
      "bto: 64  (mode: Optimization)\n",
      "['escalera', 16, 102, 'btf', 'instances/escalera/escalera-16.txt']\n",
      "btf: 64  (mode: Factibility)\n",
      "btf: 64  (mode: Factibility)\n",
      "btf: 64  (mode: Factibility)\n",
      "['escalera', 16, 102, 'dp', 'instances/escalera/escalera-16.txt']\n",
      "dp: 64\n",
      "dp: 64\n",
      "dp: 64\n",
      "['escalera', 21, 176, 'bf', 'instances/escalera/escalera-21.txt']\n",
      "bf: 110\n",
      "bf: 110\n",
      "bf: 110\n",
      "['escalera', 21, 176, 'bt', 'instances/escalera/escalera-21.txt']\n",
      "bt: 110  (mode: Optimization & Factibility)\n",
      "bt: 110  (mode: Optimization & Factibility)\n",
      "bt: 110  (mode: Optimization & Factibility)\n",
      "['escalera', 21, 176, 'bto', 'instances/escalera/escalera-21.txt']\n",
      "bto: 110  (mode: Optimization)\n",
      "bto: 110  (mode: Optimization)\n",
      "bto: 110  (mode: Optimization)\n",
      "['escalera', 21, 176, 'btf', 'instances/escalera/escalera-21.txt']\n",
      "btf: 110  (mode: Factibility)\n",
      "btf: 110  (mode: Factibility)\n",
      "btf: 110  (mode: Factibility)\n",
      "['escalera', 21, 176, 'dp', 'instances/escalera/escalera-21.txt']\n",
      "dp: 110\n",
      "dp: 110\n",
      "dp: 110\n",
      "['escalera', 26, 270, 'bf', 'instances/escalera/escalera-26.txt']\n",
      "bf: 169\n",
      "bf: 169\n",
      "bf: 169\n",
      "['escalera', 26, 270, 'bt', 'instances/escalera/escalera-26.txt']\n",
      "bt: 169  (mode: Optimization & Factibility)\n",
      "bt: 169  (mode: Optimization & Factibility)\n",
      "bt: 169  (mode: Optimization & Factibility)\n",
      "['escalera', 26, 270, 'bto', 'instances/escalera/escalera-26.txt']\n",
      "bto: 169  (mode: Optimization)\n",
      "bto: 169  (mode: Optimization)\n",
      "bto: 169  (mode: Optimization)\n",
      "['escalera', 26, 270, 'btf', 'instances/escalera/escalera-26.txt']\n",
      "btf: 169  (mode: Factibility)\n",
      "btf: 169  (mode: Factibility)\n",
      "btf: 169  (mode: Factibility)\n",
      "['escalera', 26, 270, 'dp', 'instances/escalera/escalera-26.txt']\n",
      "dp: 169\n",
      "dp: 169\n",
      "dp: 169\n"
     ]
    },
    {
     "data": {
      "text/html": [
       "<div>\n",
       "<style scoped>\n",
       "    .dataframe tbody tr th:only-of-type {\n",
       "        vertical-align: middle;\n",
       "    }\n",
       "\n",
       "    .dataframe tbody tr th {\n",
       "        vertical-align: top;\n",
       "    }\n",
       "\n",
       "    .dataframe thead th {\n",
       "        text-align: right;\n",
       "    }\n",
       "</style>\n",
       "<table border=\"1\" class=\"dataframe\">\n",
       "  <thead>\n",
       "    <tr style=\"text-align: right;\">\n",
       "      <th></th>\n",
       "      <th>dataset</th>\n",
       "      <th>exp_name</th>\n",
       "      <th>n</th>\n",
       "      <th>m</th>\n",
       "      <th>method</th>\n",
       "      <th>time</th>\n",
       "    </tr>\n",
       "  </thead>\n",
       "  <tbody>\n",
       "    <tr>\n",
       "      <th>0</th>\n",
       "      <td>escalera</td>\n",
       "      <td>escalera-exp</td>\n",
       "      <td>1</td>\n",
       "      <td>0</td>\n",
       "      <td>bf</td>\n",
       "      <td>0.025969</td>\n",
       "    </tr>\n",
       "    <tr>\n",
       "      <th>1</th>\n",
       "      <td>escalera</td>\n",
       "      <td>escalera-exp</td>\n",
       "      <td>1</td>\n",
       "      <td>0</td>\n",
       "      <td>bt</td>\n",
       "      <td>0.016280</td>\n",
       "    </tr>\n",
       "    <tr>\n",
       "      <th>2</th>\n",
       "      <td>escalera</td>\n",
       "      <td>escalera-exp</td>\n",
       "      <td>1</td>\n",
       "      <td>0</td>\n",
       "      <td>bto</td>\n",
       "      <td>0.019381</td>\n",
       "    </tr>\n",
       "    <tr>\n",
       "      <th>3</th>\n",
       "      <td>escalera</td>\n",
       "      <td>escalera-exp</td>\n",
       "      <td>1</td>\n",
       "      <td>0</td>\n",
       "      <td>btf</td>\n",
       "      <td>0.021590</td>\n",
       "    </tr>\n",
       "    <tr>\n",
       "      <th>4</th>\n",
       "      <td>escalera</td>\n",
       "      <td>escalera-exp</td>\n",
       "      <td>1</td>\n",
       "      <td>0</td>\n",
       "      <td>dp</td>\n",
       "      <td>0.018573</td>\n",
       "    </tr>\n",
       "    <tr>\n",
       "      <th>5</th>\n",
       "      <td>escalera</td>\n",
       "      <td>escalera-exp</td>\n",
       "      <td>6</td>\n",
       "      <td>14</td>\n",
       "      <td>bf</td>\n",
       "      <td>0.021310</td>\n",
       "    </tr>\n",
       "    <tr>\n",
       "      <th>6</th>\n",
       "      <td>escalera</td>\n",
       "      <td>escalera-exp</td>\n",
       "      <td>6</td>\n",
       "      <td>14</td>\n",
       "      <td>bt</td>\n",
       "      <td>0.020454</td>\n",
       "    </tr>\n",
       "    <tr>\n",
       "      <th>7</th>\n",
       "      <td>escalera</td>\n",
       "      <td>escalera-exp</td>\n",
       "      <td>6</td>\n",
       "      <td>14</td>\n",
       "      <td>bto</td>\n",
       "      <td>0.020359</td>\n",
       "    </tr>\n",
       "    <tr>\n",
       "      <th>8</th>\n",
       "      <td>escalera</td>\n",
       "      <td>escalera-exp</td>\n",
       "      <td>6</td>\n",
       "      <td>14</td>\n",
       "      <td>btf</td>\n",
       "      <td>0.017312</td>\n",
       "    </tr>\n",
       "    <tr>\n",
       "      <th>9</th>\n",
       "      <td>escalera</td>\n",
       "      <td>escalera-exp</td>\n",
       "      <td>6</td>\n",
       "      <td>14</td>\n",
       "      <td>dp</td>\n",
       "      <td>0.025205</td>\n",
       "    </tr>\n",
       "  </tbody>\n",
       "</table>\n",
       "</div>"
      ],
      "text/plain": [
       "    dataset      exp_name  n   m method      time\n",
       "0  escalera  escalera-exp  1   0     bf  0.025969\n",
       "1  escalera  escalera-exp  1   0     bt  0.016280\n",
       "2  escalera  escalera-exp  1   0    bto  0.019381\n",
       "3  escalera  escalera-exp  1   0    btf  0.021590\n",
       "4  escalera  escalera-exp  1   0     dp  0.018573\n",
       "5  escalera  escalera-exp  6  14     bf  0.021310\n",
       "6  escalera  escalera-exp  6  14     bt  0.020454\n",
       "7  escalera  escalera-exp  6  14    bto  0.020359\n",
       "8  escalera  escalera-exp  6  14    btf  0.017312\n",
       "9  escalera  escalera-exp  6  14     dp  0.025205"
      ]
     },
     "metadata": {},
     "output_type": "display_data"
    },
    {
     "data": {
      "image/png": "[encoded data removed]",
      "text/plain": [
       "<Figure size 648x504 with 1 Axes>"
      ]
     },
     "metadata": {
      "needs_background": "light"
     },
     "output_type": "display_data"
    },
    {
     "data": {
      "image/png": "[encoded data removed]",
      "text/plain": [
       "<Figure size 648x504 with 1 Axes>"
      ]
     },
     "metadata": {
      "needs_background": "light"
     },
     "output_type": "display_data"
    },
    {
     "data": {
      "image/png": "[encoded data removed]",
      "text/plain": [
       "<Figure size 648x504 with 1 Axes>"
      ]
     },
     "metadata": {
      "needs_background": "light"
     },
     "output_type": "display_data"
    }
   ],
   "source": [
    "exp2()\n",
    "instance = \"escalera\"\n",
    "df_data = pd.read_csv(\"instances/\"+instance+\"/indice.csv\");\n",
    "experiments = [] #vaciamos lista para llenarla con los datos que queremos\n",
    "name = \"escalera-exp\"\n",
    "\n",
    "#llenamos la cola de experimentos\n",
    "for k in range(0, 6):\n",
    "    row_k = df_data.iloc[k]\n",
    "    experiments.append([row_k[\"dataset\"], row_k[\"n\"], row_k[\"m\"], \"bf\", row_k[\"file\"]])\n",
    "    experiments.append([row_k[\"dataset\"], row_k[\"n\"], row_k[\"m\"], \"bt\", row_k[\"file\"]])\n",
    "    experiments.append([row_k[\"dataset\"], row_k[\"n\"], row_k[\"m\"], \"bto\", row_k[\"file\"]])\n",
    "    experiments.append([row_k[\"dataset\"], row_k[\"n\"], row_k[\"m\"], \"btf\", row_k[\"file\"]])\n",
    "    experiments.append([row_k[\"dataset\"], row_k[\"n\"], row_k[\"m\"], \"dp\", row_k[\"file\"]])\n",
    "\n",
    "#corremos los experimentos\n",
    "run_experiments(name)\n",
    "\n",
    "#veamos el resultado\n",
    "df_resultados = pd.read_csv(\"results/result.csv\")\n",
    "df_resultados = df_resultados[(df_resultados[\"dataset\"]==instance)]\n",
    "display(df_resultados[0:10])\n",
    "li = True\n",
    "plot(\"exp2\", l = li)\n",
    "plot(\"exp2\",bf = False, dp = False, l = li)\n",
    "plot(\"exp2\",btf = False, bto = False, l = li)\n"
   ]
  },
  {
   "cell_type": "code",
   "execution_count": 73,
   "id": "3a518e2d",
   "metadata": {},
   "outputs": [
    {
     "data": {
      "application/vnd.jupyter.widget-view+json": {
       "model_id": "30a0857dd1f94924b8870a129b826919",
       "version_major": 2,
       "version_minor": 0
      },
      "text/plain": [
       "Generating instances:   0%|          | 0/10 [00:00<?, ?it/s]"
      ]
     },
     "metadata": {},
     "output_type": "display_data"
    },
    {
     "data": {
      "application/vnd.jupyter.widget-view+json": {
       "model_id": "36892b7dbe0d44368e59c6694f64b9ad",
       "version_major": 2,
       "version_minor": 0
      },
      "text/plain": [
       "Completed experiments:   0%|          | 0/50 [00:00<?, ?it/s]"
      ]
     },
     "metadata": {},
     "output_type": "display_data"
    },
    {
     "name": "stdout",
     "output_type": "stream",
     "text": [
      "['escalera2', 50, 1000.0, 'bf', 'instances/escalera2/escalera2-50.txt']\n"
     ]
    },
    {
     "ename": "KeyboardInterrupt",
     "evalue": "",
     "output_type": "error",
     "traceback": [
      "\u001b[0;31m---------------------------------------------------------------------------\u001b[0m",
      "\u001b[0;31mKeyboardInterrupt\u001b[0m                         Traceback (most recent call last)",
      "\u001b[0;32m/tmp/ipykernel_127481/3715306020.py\u001b[0m in \u001b[0;36m<module>\u001b[0;34m\u001b[0m\n\u001b[1;32m     15\u001b[0m \u001b[0;34m\u001b[0m\u001b[0m\n\u001b[1;32m     16\u001b[0m \u001b[0;31m#corremos los experimentos\u001b[0m\u001b[0;34m\u001b[0m\u001b[0;34m\u001b[0m\u001b[0;34m\u001b[0m\u001b[0m\n\u001b[0;32m---> 17\u001b[0;31m \u001b[0mrun_experiments\u001b[0m\u001b[0;34m(\u001b[0m\u001b[0mname\u001b[0m\u001b[0;34m)\u001b[0m\u001b[0;34m\u001b[0m\u001b[0;34m\u001b[0m\u001b[0m\n\u001b[0m\u001b[1;32m     18\u001b[0m \u001b[0;34m\u001b[0m\u001b[0m\n\u001b[1;32m     19\u001b[0m \u001b[0;31m#veamos el resultado\u001b[0m\u001b[0;34m\u001b[0m\u001b[0;34m\u001b[0m\u001b[0;34m\u001b[0m\u001b[0m\n",
      "\u001b[0;32m/tmp/ipykernel_127481/3026353758.py\u001b[0m in \u001b[0;36mrun_experiments\u001b[0;34m(name)\u001b[0m\n\u001b[1;32m     11\u001b[0m         \u001b[0mtimes\u001b[0m \u001b[0;34m=\u001b[0m \u001b[0;34m[\u001b[0m\u001b[0;34m]\u001b[0m\u001b[0;34m\u001b[0m\u001b[0;34m\u001b[0m\u001b[0m\n\u001b[1;32m     12\u001b[0m         \u001b[0;32mfor\u001b[0m \u001b[0mi\u001b[0m \u001b[0;32min\u001b[0m \u001b[0mrange\u001b[0m\u001b[0;34m(\u001b[0m\u001b[0;36m0\u001b[0m\u001b[0;34m,\u001b[0m \u001b[0mT\u001b[0m\u001b[0;34m)\u001b[0m\u001b[0;34m:\u001b[0m\u001b[0;34m\u001b[0m\u001b[0;34m\u001b[0m\u001b[0m\n\u001b[0;32m---> 13\u001b[0;31m             \u001b[0mtimes\u001b[0m\u001b[0;34m.\u001b[0m\u001b[0mappend\u001b[0m\u001b[0;34m(\u001b[0m\u001b[0mrun_program\u001b[0m\u001b[0;34m(\u001b[0m\u001b[0mexp\u001b[0m\u001b[0;34m[\u001b[0m\u001b[0;36m3\u001b[0m\u001b[0;34m]\u001b[0m\u001b[0;34m,\u001b[0m \u001b[0mexp\u001b[0m\u001b[0;34m[\u001b[0m\u001b[0;36m4\u001b[0m\u001b[0;34m]\u001b[0m\u001b[0;34m)\u001b[0m\u001b[0;34m)\u001b[0m\u001b[0;34m\u001b[0m\u001b[0;34m\u001b[0m\u001b[0m\n\u001b[0m\u001b[1;32m     14\u001b[0m         \u001b[0mrows\u001b[0m\u001b[0;34m.\u001b[0m\u001b[0mappend\u001b[0m\u001b[0;34m(\u001b[0m\u001b[0;34m[\u001b[0m\u001b[0mexp\u001b[0m\u001b[0;34m[\u001b[0m\u001b[0;36m0\u001b[0m\u001b[0;34m]\u001b[0m\u001b[0;34m,\u001b[0m \u001b[0mname\u001b[0m\u001b[0;34m,\u001b[0m \u001b[0mexp\u001b[0m\u001b[0;34m[\u001b[0m\u001b[0;36m1\u001b[0m\u001b[0;34m]\u001b[0m\u001b[0;34m,\u001b[0m \u001b[0mexp\u001b[0m\u001b[0;34m[\u001b[0m\u001b[0;36m2\u001b[0m\u001b[0;34m]\u001b[0m\u001b[0;34m,\u001b[0m\u001b[0mexp\u001b[0m\u001b[0;34m[\u001b[0m\u001b[0;36m3\u001b[0m\u001b[0;34m]\u001b[0m\u001b[0;34m,\u001b[0m \u001b[0mnp\u001b[0m\u001b[0;34m.\u001b[0m\u001b[0mmean\u001b[0m\u001b[0;34m(\u001b[0m\u001b[0mtimes\u001b[0m\u001b[0;34m)\u001b[0m\u001b[0;34m]\u001b[0m\u001b[0;34m)\u001b[0m\u001b[0;34m\u001b[0m\u001b[0;34m\u001b[0m\u001b[0m\n\u001b[1;32m     15\u001b[0m     \u001b[0mresult\u001b[0m \u001b[0;34m=\u001b[0m \u001b[0mpd\u001b[0m\u001b[0;34m.\u001b[0m\u001b[0mDataFrame\u001b[0m\u001b[0;34m(\u001b[0m\u001b[0mrows\u001b[0m\u001b[0;34m,\u001b[0m \u001b[0mcolumns\u001b[0m\u001b[0;34m=\u001b[0m\u001b[0mcolumns\u001b[0m\u001b[0;34m)\u001b[0m\u001b[0;34m\u001b[0m\u001b[0;34m\u001b[0m\u001b[0m\n",
      "\u001b[0;32m/tmp/ipykernel_127481/414357496.py\u001b[0m in \u001b[0;36mrun_program\u001b[0;34m(method, test_file)\u001b[0m\n\u001b[1;32m     11\u001b[0m \u001b[0;31m#     proc.stdin.write(instancia)\u001b[0m\u001b[0;34m\u001b[0m\u001b[0;34m\u001b[0m\u001b[0;34m\u001b[0m\u001b[0m\n\u001b[1;32m     12\u001b[0m \u001b[0;34m\u001b[0m\u001b[0m\n\u001b[0;32m---> 13\u001b[0;31m     \u001b[0mexit_code\u001b[0m \u001b[0;34m=\u001b[0m \u001b[0mproc\u001b[0m\u001b[0;34m.\u001b[0m\u001b[0mwait\u001b[0m\u001b[0;34m(\u001b[0m\u001b[0;34m)\u001b[0m\u001b[0;31m#esperamos a que el proceso termien\u001b[0m\u001b[0;34m\u001b[0m\u001b[0;34m\u001b[0m\u001b[0m\n\u001b[0m\u001b[1;32m     14\u001b[0m \u001b[0;34m\u001b[0m\u001b[0m\n\u001b[1;32m     15\u001b[0m     \u001b[0mend\u001b[0m \u001b[0;34m=\u001b[0m \u001b[0mtime\u001b[0m\u001b[0;34m.\u001b[0m\u001b[0mtime\u001b[0m\u001b[0;34m(\u001b[0m\u001b[0;34m)\u001b[0m \u001b[0;31m#terminamos de medir el tiempo\u001b[0m\u001b[0;34m\u001b[0m\u001b[0;34m\u001b[0m\u001b[0m\n",
      "\u001b[0;32m/usr/lib/python3.8/subprocess.py\u001b[0m in \u001b[0;36mwait\u001b[0;34m(self, timeout)\u001b[0m\n\u001b[1;32m   1081\u001b[0m             \u001b[0mendtime\u001b[0m \u001b[0;34m=\u001b[0m \u001b[0m_time\u001b[0m\u001b[0;34m(\u001b[0m\u001b[0;34m)\u001b[0m \u001b[0;34m+\u001b[0m \u001b[0mtimeout\u001b[0m\u001b[0;34m\u001b[0m\u001b[0;34m\u001b[0m\u001b[0m\n\u001b[1;32m   1082\u001b[0m         \u001b[0;32mtry\u001b[0m\u001b[0;34m:\u001b[0m\u001b[0;34m\u001b[0m\u001b[0;34m\u001b[0m\u001b[0m\n\u001b[0;32m-> 1083\u001b[0;31m             \u001b[0;32mreturn\u001b[0m \u001b[0mself\u001b[0m\u001b[0;34m.\u001b[0m\u001b[0m_wait\u001b[0m\u001b[0;34m(\u001b[0m\u001b[0mtimeout\u001b[0m\u001b[0;34m=\u001b[0m\u001b[0mtimeout\u001b[0m\u001b[0;34m)\u001b[0m\u001b[0;34m\u001b[0m\u001b[0;34m\u001b[0m\u001b[0m\n\u001b[0m\u001b[1;32m   1084\u001b[0m         \u001b[0;32mexcept\u001b[0m \u001b[0mKeyboardInterrupt\u001b[0m\u001b[0;34m:\u001b[0m\u001b[0;34m\u001b[0m\u001b[0;34m\u001b[0m\u001b[0m\n\u001b[1;32m   1085\u001b[0m             \u001b[0;31m# https://bugs.python.org/issue25942\u001b[0m\u001b[0;34m\u001b[0m\u001b[0;34m\u001b[0m\u001b[0;34m\u001b[0m\u001b[0m\n",
      "\u001b[0;32m/usr/lib/python3.8/subprocess.py\u001b[0m in \u001b[0;36m_wait\u001b[0;34m(self, timeout)\u001b[0m\n\u001b[1;32m   1804\u001b[0m                         \u001b[0;32mif\u001b[0m \u001b[0mself\u001b[0m\u001b[0;34m.\u001b[0m\u001b[0mreturncode\u001b[0m \u001b[0;32mis\u001b[0m \u001b[0;32mnot\u001b[0m \u001b[0;32mNone\u001b[0m\u001b[0;34m:\u001b[0m\u001b[0;34m\u001b[0m\u001b[0;34m\u001b[0m\u001b[0m\n\u001b[1;32m   1805\u001b[0m                             \u001b[0;32mbreak\u001b[0m  \u001b[0;31m# Another thread waited.\u001b[0m\u001b[0;34m\u001b[0m\u001b[0;34m\u001b[0m\u001b[0m\n\u001b[0;32m-> 1806\u001b[0;31m                         \u001b[0;34m(\u001b[0m\u001b[0mpid\u001b[0m\u001b[0;34m,\u001b[0m \u001b[0msts\u001b[0m\u001b[0;34m)\u001b[0m \u001b[0;34m=\u001b[0m \u001b[0mself\u001b[0m\u001b[0;34m.\u001b[0m\u001b[0m_try_wait\u001b[0m\u001b[0;34m(\u001b[0m\u001b[0;36m0\u001b[0m\u001b[0;34m)\u001b[0m\u001b[0;34m\u001b[0m\u001b[0;34m\u001b[0m\u001b[0m\n\u001b[0m\u001b[1;32m   1807\u001b[0m                         \u001b[0;31m# Check the pid and loop as waitpid has been known to\u001b[0m\u001b[0;34m\u001b[0m\u001b[0;34m\u001b[0m\u001b[0;34m\u001b[0m\u001b[0m\n\u001b[1;32m   1808\u001b[0m                         \u001b[0;31m# return 0 even without WNOHANG in odd situations.\u001b[0m\u001b[0;34m\u001b[0m\u001b[0;34m\u001b[0m\u001b[0;34m\u001b[0m\u001b[0m\n",
      "\u001b[0;32m/usr/lib/python3.8/subprocess.py\u001b[0m in \u001b[0;36m_try_wait\u001b[0;34m(self, wait_flags)\u001b[0m\n\u001b[1;32m   1762\u001b[0m             \u001b[0;34m\"\"\"All callers to this function MUST hold self._waitpid_lock.\"\"\"\u001b[0m\u001b[0;34m\u001b[0m\u001b[0;34m\u001b[0m\u001b[0m\n\u001b[1;32m   1763\u001b[0m             \u001b[0;32mtry\u001b[0m\u001b[0;34m:\u001b[0m\u001b[0;34m\u001b[0m\u001b[0;34m\u001b[0m\u001b[0m\n\u001b[0;32m-> 1764\u001b[0;31m                 \u001b[0;34m(\u001b[0m\u001b[0mpid\u001b[0m\u001b[0;34m,\u001b[0m \u001b[0msts\u001b[0m\u001b[0;34m)\u001b[0m \u001b[0;34m=\u001b[0m \u001b[0mos\u001b[0m\u001b[0;34m.\u001b[0m\u001b[0mwaitpid\u001b[0m\u001b[0;34m(\u001b[0m\u001b[0mself\u001b[0m\u001b[0;34m.\u001b[0m\u001b[0mpid\u001b[0m\u001b[0;34m,\u001b[0m \u001b[0mwait_flags\u001b[0m\u001b[0;34m)\u001b[0m\u001b[0;34m\u001b[0m\u001b[0;34m\u001b[0m\u001b[0m\n\u001b[0m\u001b[1;32m   1765\u001b[0m             \u001b[0;32mexcept\u001b[0m \u001b[0mChildProcessError\u001b[0m\u001b[0;34m:\u001b[0m\u001b[0;34m\u001b[0m\u001b[0;34m\u001b[0m\u001b[0m\n\u001b[1;32m   1766\u001b[0m                 \u001b[0;31m# This happens if SIGCLD is set to be ignored or waiting\u001b[0m\u001b[0;34m\u001b[0m\u001b[0;34m\u001b[0m\u001b[0;34m\u001b[0m\u001b[0m\n",
      "\u001b[0;31mKeyboardInterrupt\u001b[0m: "
     ]
    }
   ],
   "source": [
    "exp3()\n",
    "instance = \"escalera2\"\n",
    "df_data = pd.read_csv(\"instances/\"+instance+\"/indice.csv\");\n",
    "experiments = [] #vaciamos lista para llenarla con los datos que queremos\n",
    "name = \"escalera2-exp\"\n",
    "\n",
    "#llenamos la cola de experimentos\n",
    "for k in range(0, len(df_data)):\n",
    "    row_k = df_data.iloc[k]\n",
    "    experiments.append([row_k[\"dataset\"], row_k[\"n\"], row_k[\"m\"], \"bf\", row_k[\"file\"]])\n",
    "    experiments.append([row_k[\"dataset\"], row_k[\"n\"], row_k[\"m\"], \"bt\", row_k[\"file\"]])\n",
    "    experiments.append([row_k[\"dataset\"], row_k[\"n\"], row_k[\"m\"], \"bto\", row_k[\"file\"]])\n",
    "    experiments.append([row_k[\"dataset\"], row_k[\"n\"], row_k[\"m\"], \"btf\", row_k[\"file\"]])\n",
    "    experiments.append([row_k[\"dataset\"], row_k[\"n\"], row_k[\"m\"], \"dp\", row_k[\"file\"]])\n",
    "\n",
    "#corremos los experimentos\n",
    "run_experiments(name)\n",
    "\n",
    "#veamos el resultado\n",
    "df_resultados = pd.read_csv(\"results/result.csv\")\n",
    "df_resultados = df_resultados[(df_resultados[\"dataset\"]==instance)]\n",
    "display(df_resultados[0:10])\n",
    "li = True\n",
    "plot(\"exp3\", l = li)\n",
    "plot(\"exp3\",bf = False, dp = False, l = li)\n",
    "plot(\"exp3\",btf = False, bto = False, l = li)"
   ]
  },
  {
   "cell_type": "code",
   "execution_count": null,
   "id": "4255b8d0",
   "metadata": {},
   "outputs": [],
   "source": []
  },
  {
   "cell_type": "code",
   "execution_count": null,
   "id": "d2ad7bfc",
   "metadata": {},
   "outputs": [],
   "source": []
  },
  {
   "cell_type": "code",
   "execution_count": null,
   "id": "92141e09",
   "metadata": {},
   "outputs": [],
   "source": []
  },
  {
   "cell_type": "code",
   "execution_count": null,
   "id": "087430b0",
   "metadata": {},
   "outputs": [],
   "source": []
  },
  {
   "cell_type": "markdown",
   "id": "337fa3c6",
   "metadata": {},
   "source": [
    "# ANALISIS"
   ]
  },
  {
   "cell_type": "code",
   "execution_count": 9,
   "id": "82e2e41e",
   "metadata": {},
   "outputs": [
    {
     "data": {
      "text/html": [
       "<div>\n",
       "<style scoped>\n",
       "    .dataframe tbody tr th:only-of-type {\n",
       "        vertical-align: middle;\n",
       "    }\n",
       "\n",
       "    .dataframe tbody tr th {\n",
       "        vertical-align: top;\n",
       "    }\n",
       "\n",
       "    .dataframe thead th {\n",
       "        text-align: right;\n",
       "    }\n",
       "</style>\n",
       "<table border=\"1\" class=\"dataframe\">\n",
       "  <thead>\n",
       "    <tr style=\"text-align: right;\">\n",
       "      <th></th>\n",
       "      <th>dataset</th>\n",
       "      <th>exp_name</th>\n",
       "      <th>n</th>\n",
       "      <th>m</th>\n",
       "      <th>method</th>\n",
       "      <th>time</th>\n",
       "    </tr>\n",
       "  </thead>\n",
       "  <tbody>\n",
       "    <tr>\n",
       "      <th>0</th>\n",
       "      <td>prueba</td>\n",
       "      <td>exp1</td>\n",
       "      <td>4</td>\n",
       "      <td>150</td>\n",
       "      <td>bf</td>\n",
       "      <td>0.018622</td>\n",
       "    </tr>\n",
       "    <tr>\n",
       "      <th>1</th>\n",
       "      <td>prueba</td>\n",
       "      <td>exp1</td>\n",
       "      <td>4</td>\n",
       "      <td>150</td>\n",
       "      <td>bt</td>\n",
       "      <td>0.013074</td>\n",
       "    </tr>\n",
       "    <tr>\n",
       "      <th>2</th>\n",
       "      <td>prueba</td>\n",
       "      <td>exp1</td>\n",
       "      <td>4</td>\n",
       "      <td>150</td>\n",
       "      <td>bto</td>\n",
       "      <td>0.011284</td>\n",
       "    </tr>\n",
       "    <tr>\n",
       "      <th>3</th>\n",
       "      <td>prueba</td>\n",
       "      <td>exp1</td>\n",
       "      <td>4</td>\n",
       "      <td>150</td>\n",
       "      <td>btf</td>\n",
       "      <td>0.013608</td>\n",
       "    </tr>\n",
       "    <tr>\n",
       "      <th>4</th>\n",
       "      <td>prueba</td>\n",
       "      <td>exp1</td>\n",
       "      <td>4</td>\n",
       "      <td>150</td>\n",
       "      <td>btof</td>\n",
       "      <td>0.010690</td>\n",
       "    </tr>\n",
       "    <tr>\n",
       "      <th>5</th>\n",
       "      <td>prueba</td>\n",
       "      <td>exp1</td>\n",
       "      <td>4</td>\n",
       "      <td>150</td>\n",
       "      <td>dp</td>\n",
       "      <td>0.012128</td>\n",
       "    </tr>\n",
       "    <tr>\n",
       "      <th>6</th>\n",
       "      <td>prueba</td>\n",
       "      <td>exp1</td>\n",
       "      <td>5</td>\n",
       "      <td>150</td>\n",
       "      <td>bf</td>\n",
       "      <td>0.010163</td>\n",
       "    </tr>\n",
       "    <tr>\n",
       "      <th>7</th>\n",
       "      <td>prueba</td>\n",
       "      <td>exp1</td>\n",
       "      <td>5</td>\n",
       "      <td>150</td>\n",
       "      <td>bt</td>\n",
       "      <td>0.011962</td>\n",
       "    </tr>\n",
       "    <tr>\n",
       "      <th>8</th>\n",
       "      <td>prueba</td>\n",
       "      <td>exp1</td>\n",
       "      <td>5</td>\n",
       "      <td>150</td>\n",
       "      <td>bto</td>\n",
       "      <td>0.010401</td>\n",
       "    </tr>\n",
       "    <tr>\n",
       "      <th>9</th>\n",
       "      <td>prueba</td>\n",
       "      <td>exp1</td>\n",
       "      <td>5</td>\n",
       "      <td>150</td>\n",
       "      <td>btf</td>\n",
       "      <td>0.012272</td>\n",
       "    </tr>\n",
       "  </tbody>\n",
       "</table>\n",
       "</div>"
      ],
      "text/plain": [
       "  dataset exp_name  n    m method      time\n",
       "0  prueba     exp1  4  150     bf  0.018622\n",
       "1  prueba     exp1  4  150     bt  0.013074\n",
       "2  prueba     exp1  4  150    bto  0.011284\n",
       "3  prueba     exp1  4  150    btf  0.013608\n",
       "4  prueba     exp1  4  150   btof  0.010690\n",
       "5  prueba     exp1  4  150     dp  0.012128\n",
       "6  prueba     exp1  5  150     bf  0.010163\n",
       "7  prueba     exp1  5  150     bt  0.011962\n",
       "8  prueba     exp1  5  150    bto  0.010401\n",
       "9  prueba     exp1  5  150    btf  0.012272"
      ]
     },
     "metadata": {},
     "output_type": "display_data"
    }
   ],
   "source": [
    "df_resultados = pd.read_csv(\"results/result.csv\")\n",
    "df_resultados = df_resultados[(df_resultados[\"dataset\"]==\"prueba\")]\n",
    "display(df_resultados[0:10])"
   ]
  },
  {
   "cell_type": "code",
   "execution_count": 27,
   "id": "e835dc86",
   "metadata": {},
   "outputs": [],
   "source": [
    "def plot(title,bf=True,bt=True,bto=True,btf=True,dp=True,l = False):\n",
    "    fig = plt.figure(figsize =(9, 7))\n",
    "    \n",
    "    if (l) :\n",
    "        l = \"\" \n",
    "    else:\n",
    "        l = \"o\" \n",
    "    \n",
    "    if (bf):\n",
    "        df_bf = df_resultados[(df_resultados[\"method\"]==\"bf\")]\n",
    "    if(bt):\n",
    "        df_bt = df_resultados[(df_resultados[\"method\"]==\"bt\")]\n",
    "    if(bto):\n",
    "        df_bto = df_resultados[(df_resultados[\"method\"]==\"bto\")]\n",
    "    if(btf):\n",
    "        df_btf = df_resultados[(df_resultados[\"method\"]==\"btf\")]\n",
    "#     if(btof):\n",
    "#         df_btof = df_resultados[(df_resultados[\"method\"]==\"btof\")]\n",
    "    if(dp):\n",
    "        df_dp = df_resultados[(df_resultados[\"method\"]==\"dp\")]\n",
    "\n",
    "    plt.plot()\n",
    "\n",
    "    #puntos\n",
    "    if (bf):\n",
    "        plt.plot(df_bf[\"n\"],df_bf[\"time\"],l, c=\"grey\", label=\"bf\")\n",
    "    if(bt):\n",
    "        plt.plot(df_bt[\"n\"],df_bt[\"time\"],l, c=\"blue\", label=\"bt\")\n",
    "    if(bto):\n",
    "        plt.plot(df_bto[\"n\"],df_bto[\"time\"],l, c=\"green\", label=\"bto\")\n",
    "    if(btf):\n",
    "        plt.plot(df_btf[\"n\"],df_btf[\"time\"],l, c=\"r\", label=\"btf\")\n",
    "#     if(btof):\n",
    "#         plt.plot(df_btof[\"n\"],df_btof[\"time\"],l, c=\"purple\", label=\"btof\")\n",
    "    if(dp):\n",
    "        plt.plot(df_dp[\"n\"],df_dp[\"time\"],l, c=\"gold\", label=\"dp\")\n",
    "\n",
    "    plt.legend()\n",
    "    plt.grid()\n",
    "\n",
    "\n",
    "\n",
    "    plt.title(title)\n",
    "    plt.xlabel('n') \n",
    "    plt.ylabel('Clocks')  \n",
    "    plt.show()"
   ]
  },
  {
   "cell_type": "code",
   "execution_count": null,
   "id": "ed8becb5",
   "metadata": {},
   "outputs": [],
   "source": [
    "display(df_aleatorio[:20])"
   ]
  },
  {
   "cell_type": "code",
   "execution_count": null,
   "id": "f6d4509e",
   "metadata": {},
   "outputs": [],
   "source": []
  }
 ],
 "metadata": {
  "kernelspec": {
   "display_name": "Python 3 (ipykernel)",
   "language": "python",
   "name": "python3"
  },
  "language_info": {
   "codemirror_mode": {
    "name": "ipython",
    "version": 3
   },
   "file_extension": ".py",
   "mimetype": "text/x-python",
   "name": "python",
   "nbconvert_exporter": "python",
   "pygments_lexer": "ipython3",
   "version": "3.8.10"
  }
 },
 "nbformat": 4,
 "nbformat_minor": 5
}
